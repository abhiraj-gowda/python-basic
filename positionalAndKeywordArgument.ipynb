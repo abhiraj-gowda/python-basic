{
 "cells": [
  {
   "cell_type": "markdown",
   "metadata": {},
   "source": [
    "##### here,positional arguments are those wit no default values in the function definition ,and keyword argument are  those with default key for each argument( they are like <u>key:value </u>pair)"
   ]
  },
  {
   "cell_type": "code",
   "execution_count": 1,
   "metadata": {},
   "outputs": [
    {
     "name": "stdout",
     "output_type": "stream",
     "text": [
      "hi there \n",
      " i'm abhi and i'm 21 years old.\n",
      " i live in india\n",
      "hi there \n",
      " i'm ramesh and i'm 26 years old.\n",
      " i live in usa\n"
     ]
    }
   ],
   "source": [
    "# here name is positional argument\n",
    "# age and country are keyword argument\n",
    "def biography(name,age=21,country=\"india\"):\n",
    "    print(f\"hi there \\n i'm {name} and i'm {age} years old.\\n i live in {country}\")\n",
    "    return name,age,country\n",
    "biography('abhi')\n",
    "u= biography('ramesh',26,'usa')\n"
   ]
  },
  {
   "cell_type": "markdown",
   "metadata": {},
   "source": [
    "# 👇<h5> this is an other way to assign positional arguments and keyword arguments</h5>\n",
    "#### just use '*' to indicate positional argument and '**' for keyword argument in function definition"
   ]
  },
  {
   "cell_type": "code",
   "execution_count": 3,
   "metadata": {},
   "outputs": [
    {
     "name": "stdout",
     "output_type": "stream",
     "text": [
      "('hi', 'loki')\n",
      "{'l': 89}\n"
     ]
    }
   ],
   "source": [
    "def person(*arg,**kwarg):\n",
    "    print(arg)\n",
    "    print(kwarg)\n",
    "    \n",
    "ll=person('hi','loki',l=89)"
   ]
  }
 ],
 "metadata": {
  "kernelspec": {
   "display_name": "Python 3",
   "language": "python",
   "name": "python3"
  },
  "language_info": {
   "codemirror_mode": {
    "name": "ipython",
    "version": 3
   },
   "file_extension": ".py",
   "mimetype": "text/x-python",
   "name": "python",
   "nbconvert_exporter": "python",
   "pygments_lexer": "ipython3",
   "version": "3.11.5"
  }
 },
 "nbformat": 4,
 "nbformat_minor": 2
}
