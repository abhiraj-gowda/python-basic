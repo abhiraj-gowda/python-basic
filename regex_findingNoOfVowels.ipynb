{
 "cells": [
  {
   "cell_type": "code",
   "execution_count": 5,
   "metadata": {},
   "outputs": [
    {
     "name": "stdout",
     "output_type": "stream",
     "text": [
      "3\n"
     ]
    }
   ],
   "source": [
    "import re\n",
    "p=re.compile(r'[aeiouAEIOU]')\n",
    "s=input('enter a word')\n",
    "\n",
    "print(len(p.findall(s)))"
   ]
  },
  {
   "cell_type": "code",
   "execution_count": 7,
   "metadata": {},
   "outputs": [
    {
     "data": {
      "text/plain": [
       "3"
      ]
     },
     "execution_count": 7,
     "metadata": {},
     "output_type": "execute_result"
    }
   ],
   "source": [
    "def s(srt):\n",
    "    count=0\n",
    "    for char in srt:\n",
    "        if char=='a' or char=='e' or char=='i' or char=='o' or char=='u':\n",
    "            count+=1\n",
    "    return count\n",
    "ss=s(\"abhiraj\")\n",
    "ss        "
   ]
  },
  {
   "cell_type": "code",
   "execution_count": 10,
   "metadata": {},
   "outputs": [
    {
     "name": "stdout",
     "output_type": "stream",
     "text": [
      "{'f', 'a', 'c', 'd', 'b', 'e'}\n"
     ]
    }
   ],
   "source": [
    "s='abcdef'\n",
    "print(set(s))"
   ]
  },
  {
   "cell_type": "code",
   "execution_count": 1,
   "metadata": {},
   "outputs": [
    {
     "name": "stdout",
     "output_type": "stream",
     "text": [
      "5\n"
     ]
    }
   ],
   "source": [
    "def a(srt):\n",
    "    c=0\n",
    "    v=set('aeiouAEIOU')\n",
    "    for i in srt:\n",
    "        if i in v:\n",
    "            c+=1\n",
    "    return c\n",
    "\n",
    "print(a(\"asdfgoiue\"))"
   ]
  },
  {
   "cell_type": "code",
   "execution_count": 1,
   "metadata": {},
   "outputs": [
    {
     "name": "stdout",
     "output_type": "stream",
     "text": [
      "3\n"
     ]
    }
   ],
   "source": [
    "import re\n",
    "p=re.compile(r'[aeiouAEIOU]')\n",
    "s=input('enter a word')\n",
    "ss=p.findall(s)\n",
    "print(len(ss))"
   ]
  },
  {
   "cell_type": "code",
   "execution_count": 22,
   "metadata": {},
   "outputs": [
    {
     "data": {
      "text/plain": [
       "['0']"
      ]
     },
     "execution_count": 22,
     "metadata": {},
     "output_type": "execute_result"
    }
   ],
   "source": [
    "import re \n",
    "p=re.compile(r'(\\d){5}')\n",
    "inp=input('enter a word with +91 number')\n",
    "s=p.findall(inp)\n",
    "s"
   ]
  }
 ],
 "metadata": {
  "kernelspec": {
   "display_name": "Python 3",
   "language": "python",
   "name": "python3"
  },
  "language_info": {
   "codemirror_mode": {
    "name": "ipython",
    "version": 3
   },
   "file_extension": ".py",
   "mimetype": "text/x-python",
   "name": "python",
   "nbconvert_exporter": "python",
   "pygments_lexer": "ipython3",
   "version": "3.11.5"
  }
 },
 "nbformat": 4,
 "nbformat_minor": 2
}
