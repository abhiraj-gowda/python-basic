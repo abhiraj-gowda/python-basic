{
 "cells": [
  {
   "cell_type": "markdown",
   "metadata": {},
   "source": [
    "# # lets start fresh 😁\n",
    "- #### points that I've focused inn this folder.\n",
    "-  ip/op \n",
    "- variables ( and also know about there types)\n",
    "- type casting\n",
    "- loops\n",
    "- lists \n",
    "- tuples\n",
    "- dictionaries\n",
    "- set\n",
    "- loops (for, while)\n",
    "- conditional statements (if, elif, else)\n",
    "- numpy\n",
    "- pandas"
   ]
  },
  {
   "cell_type": "markdown",
   "metadata": {},
   "source": [
    "# 1. input / output"
   ]
  },
  {
   "cell_type": "markdown",
   "metadata": {},
   "source": [
    "simple o/p for both variables an' string directly on print funtion "
   ]
  },
  {
   "cell_type": "code",
   "execution_count": 1,
   "metadata": {},
   "outputs": [],
   "source": [
    "a=12\n",
    "b=25.23\n",
    "c=\"Hello World\"\n",
    "d=True\n",
    "e=complex(3, 4)"
   ]
  },
  {
   "cell_type": "markdown",
   "metadata": {},
   "source": [
    "- #### so what is a variable.\n",
    "A variable in programming refers to a user-defined name stored in the memory that holds a value which or\n",
    "its a name given to memory location which holds some value. "
   ]
  },
  {
   "cell_type": "code",
   "execution_count": 11,
   "metadata": {},
   "outputs": [
    {
     "name": "stdout",
     "output_type": "stream",
     "text": [
      "hi abhi\n",
      "12\n",
      "25.23\n",
      "Hello World\n",
      "True\n",
      "(3+4j)\n"
     ]
    }
   ],
   "source": [
    "print(\"hi abhi\")  # directly on print funtion \n",
    "print(a)\n",
    "print(b)\n",
    "print(c)\n",
    "print(d)\n",
    "print(e)"
   ]
  },
  {
   "cell_type": "markdown",
   "metadata": {},
   "source": [
    "so here we are knoning teir datatype by using in-build function type()"
   ]
  },
  {
   "cell_type": "code",
   "execution_count": 3,
   "metadata": {},
   "outputs": [
    {
     "name": "stdout",
     "output_type": "stream",
     "text": [
      "<class 'int'>\n",
      "<class 'float'>\n",
      "<class 'str'>\n",
      "<class 'bool'>\n",
      "<class 'complex'>\n"
     ]
    }
   ],
   "source": [
    "print(type(a))\n",
    "print(type(b))\n",
    "print(type(c))\n",
    "print(type(d))\n",
    "print(type(e))"
   ]
  },
  {
   "cell_type": "markdown",
   "metadata": {},
   "source": [
    " # 👆👉  there's not <u> double </u> datatype in in python"
   ]
  },
  {
   "cell_type": "code",
   "execution_count": 12,
   "metadata": {},
   "outputs": [
    {
     "data": {
      "text/plain": [
       "'12'"
      ]
     },
     "execution_count": 12,
     "metadata": {},
     "output_type": "execute_result"
    }
   ],
   "source": [
    "# this for input\n",
    "n=input(\"enter a number\")\n",
    "n"
   ]
  },
  {
   "cell_type": "markdown",
   "metadata": {},
   "source": [
    "### type casting\n",
    "in py ,what ever u input they are considered as string ,so type casting should done.\n",
    "For type casting  just write the datatype to which you want to convert an' next to it within the paranthesis write the variables.\n",
    " - note u can never convert a letter into a number ie. to integer or float \n",
    " - but we can convert a number from int or float to string"
   ]
  },
  {
   "cell_type": "code",
   "execution_count": 5,
   "metadata": {},
   "outputs": [
    {
     "data": {
      "text/plain": [
       "str"
      ]
     },
     "execution_count": 5,
     "metadata": {},
     "output_type": "execute_result"
    }
   ],
   "source": [
    "type(n)"
   ]
  },
  {
   "cell_type": "code",
   "execution_count": 6,
   "metadata": {},
   "outputs": [
    {
     "name": "stdout",
     "output_type": "stream",
     "text": [
      "<class 'int'> <class 'float'> \n",
      "\n",
      "12 \t 12.0\n"
     ]
    }
   ],
   "source": [
    "n=int(n) # this is how we convert and initialize for in i/p or---->\n",
    "ii=float(input(\"enter a number\")) # here we convert it once the input is driven\n",
    "print(type(n),type(ii),\"\\n\")\n",
    "print(n,\"\\t\",ii)"
   ]
  },
  {
   "cell_type": "markdown",
   "metadata": {},
   "source": [
    "### let's plunge into some basic data structures in py"
   ]
  },
  {
   "cell_type": "markdown",
   "metadata": {},
   "source": [
    "- lists are collection of data(they can be of any type)\n",
    "- in python, list is created by placing the elements inside square brackets []\n",
    "- they are ordered ,mutable.\n"
   ]
  },
  {
   "cell_type": "markdown",
   "metadata": {},
   "source": [
    "###  🪶let's also go along with loops and few list functions \n",
    "- for loop\n",
    "- while loop"
   ]
  },
  {
   "cell_type": "code",
   "execution_count": null,
   "metadata": {},
   "outputs": [],
   "source": []
  },
  {
   "cell_type": "code",
   "execution_count": 7,
   "metadata": {},
   "outputs": [
    {
     "name": "stdout",
     "output_type": "stream",
     "text": [
      "<class 'list'> <class 'list'>\n"
     ]
    }
   ],
   "source": [
    "lists=[1,2,3,4,5]\n",
    "char=[\"a\",'b','c','d','e']\n",
    "print(type(lists),type(char))"
   ]
  },
  {
   "cell_type": "markdown",
   "metadata": {},
   "source": [
    "## 🪶 list functions\n",
    "- finding length\n",
    "- counting the iteration of an item or instance\n",
    "- datatype of each item in the list\n",
    "- appending (adding new item)\n",
    "- sorting a list(both ascending and descending)\n",
    "- finding the index of the item\n",
    "- copying a list to another\n",
    "- incert element X in the place of Y \n",
    "- expanding a list of length n to length m so that we can add another list to it.\n",
    " #### so on and so forth"
   ]
  },
  {
   "cell_type": "code",
   "execution_count": 8,
   "metadata": {},
   "outputs": [
    {
     "name": "stdout",
     "output_type": "stream",
     "text": [
      "[0, 2, 4, 6, 8, 10, 12, 14, 16, 18] \n",
      "\n",
      "[11, 12, 13, 14, 15, 16, 17, 18, 19, 20, 12321] \n",
      "\n",
      "[12321, 20, 19, 18, 17, 16, 15, 14, 13, 12, 11] \n",
      "\n",
      "[11, 12, 13, 14, 15, 16, 17, 18, 19, 20, 12321] \n",
      "\n",
      "[18, 16, 14, 12, 10, 8, 6, 4, 2, 0] \n",
      "\n",
      "3\n",
      "2 \n",
      "\n",
      "1\n",
      "[11, 12, 13, 14, 15, 16, 17, 18, 19, 20, 12321] \n",
      "\n",
      "[11, 12, 13, 14, 15, 16, 17, 18, 19, 20, 12321, 13] \n",
      "\n",
      "[11, 12, 13, 14, 15, 16, 17, 18, 19, 20, 12321, 13, 18, 16, 14, 12, 10, 8, 6, 4, 2, 0] \n",
      "\n",
      "[0, 2, 4, 6, 8, 10, 11, 12, 12, 13, 13, 14, 14, 15, 16, 16, 17, 18, 18, 19, 20, 12321] \n",
      "\n"
     ]
    }
   ],
   "source": [
    "# on each list operation the list is modified and we have to be aware of it.\n",
    "list2=[i for i in range(11,21)]\n",
    "list3=[j for j in range(20) if j%2 == 0]\n",
    "print( list3,\"\\n\")\n",
    "list2.append(12321) # appending in the sense adding a item to the list\n",
    "print( list2,\"\\n\")\n",
    "list2.sort(reverse=True)\n",
    "print( list2,\"\\n\")\n",
    "list2.sort()\n",
    "print( list2,\"\\n\")\n",
    "list3.reverse()\n",
    "print( list3,\"\\n\")\n",
    "p=list2.index(13)\n",
    "print(list2.index(14))\n",
    "print( p,\"\\n\")\n",
    "print(list2.count(15))\n",
    "list_duplicate=list2.copy()\n",
    "print(list_duplicate,\"\\n\")\n",
    "list2.insert(11,13)\n",
    "print(list2,\"\\n\")\n",
    "list2.extend(list3)\n",
    "print(list2,'\\n')\n",
    "list2.sort()\n",
    "print(list2,'\\n')\n"
   ]
  },
  {
   "cell_type": "code",
   "execution_count": 9,
   "metadata": {},
   "outputs": [
    {
     "name": "stdout",
     "output_type": "stream",
     "text": [
      "1 \n",
      " <class 'int'> \n",
      "\n",
      "2 \n",
      " <class 'int'> \n",
      "\n",
      "3 \n",
      " <class 'int'> \n",
      "\n",
      "a \n",
      " <class 'str'> \n",
      "\n",
      "abhi \n",
      " <class 'str'> \n",
      "\n"
     ]
    }
   ],
   "source": [
    "# here let's retrieve an item at a time  from a list and print them using for and while both as well as knw their type\n",
    "list1=[1,2,3,'a',\"abhi\"]\n",
    "for i in list1:\n",
    "    print(i,\"\\n\",type(i),\"\\n\")"
   ]
  },
  {
   "cell_type": "code",
   "execution_count": null,
   "metadata": {},
   "outputs": [],
   "source": []
  }
 ],
 "metadata": {
  "kernelspec": {
   "display_name": "Python 3",
   "language": "python",
   "name": "python3"
  },
  "language_info": {
   "codemirror_mode": {
    "name": "ipython",
    "version": 3
   },
   "file_extension": ".py",
   "mimetype": "text/x-python",
   "name": "python",
   "nbconvert_exporter": "python",
   "pygments_lexer": "ipython3",
   "version": "3.11.5"
  }
 },
 "nbformat": 4,
 "nbformat_minor": 2
}
