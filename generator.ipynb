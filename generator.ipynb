{
 "cells": [
  {
   "cell_type": "markdown",
   "metadata": {},
   "source": [
    "# generator"
   ]
  },
  {
   "cell_type": "code",
   "execution_count": 1,
   "metadata": {},
   "outputs": [
    {
     "name": "stdout",
     "output_type": "stream",
     "text": [
      "3 6 12 24 48 96 192\n"
     ]
    }
   ],
   "source": [
    "n = 200\n",
    "j_values = [j for j in (3 * (2 ** k) for k in range(0, n.bit_length())) if j < n]\n",
    "\n",
    "print(*j_values)\n",
    "\n"
   ]
  },
  {
   "cell_type": "code",
   "execution_count": 2,
   "metadata": {},
   "outputs": [
    {
     "name": "stdout",
     "output_type": "stream",
     "text": [
      "3\n",
      "6\n",
      "12\n"
     ]
    }
   ],
   "source": [
    "# 👉 \"(3 * (2 ** k) for k in range(0, n.bit_length()))\" this is a generator \n",
    "\n",
    "n = 20\n",
    "gen = (3 * (2 ** k) for k in range(0, n.bit_length()))\n",
    "\n",
    "# Using next() to get values from the generator\n",
    "print(next(gen))  # Outputs: 3\n",
    "print(next(gen))  # Outputs: 6\n",
    "print(next(gen))  # Outputs: 12\n",
    "# And so on..."
   ]
  },
  {
   "cell_type": "markdown",
   "metadata": {},
   "source": [
    "Explanation of the Generator Expression:\n",
    "Generator Expression:\n",
    "\n",
    "The part (3 * (2 ** k) for k in range(0, n.bit_length())) is a generator expression.\n",
    "It generates values by calculating 3 * (2 ** k) for each k in the range from 0 to n.bit_length() - 1.\n",
    "For n = 20, n.bit_length() returns 5, so k takes values 0, 1, 2, 3, and 4.\n",
    "Calculation of Values:\n",
    "\n",
    "As k iterates, the generator produces:\n",
    "<img src=\"generator breakDown.png\" >"
   ]
  }
 ],
 "metadata": {
  "kernelspec": {
   "display_name": "Python 3",
   "language": "python",
   "name": "python3"
  },
  "language_info": {
   "codemirror_mode": {
    "name": "ipython",
    "version": 3
   },
   "file_extension": ".py",
   "mimetype": "text/x-python",
   "name": "python",
   "nbconvert_exporter": "python",
   "pygments_lexer": "ipython3",
   "version": "3.11.5"
  }
 },
 "nbformat": 4,
 "nbformat_minor": 2
}
