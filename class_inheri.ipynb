{
 "cells": [
  {
   "cell_type": "code",
   "execution_count": 7,
   "metadata": {},
   "outputs": [
    {
     "name": "stdout",
     "output_type": "stream",
     "text": [
      "name: asd\n",
      "type: s112\n",
      "model: iron-880\n"
     ]
    }
   ],
   "source": [
    "class Car:\n",
    "    def __init__(self,name,type) :\n",
    "        self.name=name\n",
    "        self.type=type\n",
    "    def show(self):\n",
    "        print('name:',self.name)\n",
    "        print('type:',self.type)\n",
    "class heroCar(Car):\n",
    "    def __init__(self,name,type,model):\n",
    "        super().__init__(name,type)\n",
    "        self.model=model\n",
    "    def sshow(self):\n",
    "        super().show()\n",
    "        print('model:',self.model)\n",
    "\n",
    "c1=heroCar('asd','s112','iron-880')\n",
    "c1.sshow()"
   ]
  }
 ],
 "metadata": {
  "kernelspec": {
   "display_name": "Python 3",
   "language": "python",
   "name": "python3"
  },
  "language_info": {
   "codemirror_mode": {
    "name": "ipython",
    "version": 3
   },
   "file_extension": ".py",
   "mimetype": "text/x-python",
   "name": "python",
   "nbconvert_exporter": "python",
   "pygments_lexer": "ipython3",
   "version": "3.11.5"
  }
 },
 "nbformat": 4,
 "nbformat_minor": 2
}
