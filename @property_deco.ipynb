{
 "cells": [
  {
   "cell_type": "code",
   "execution_count": 5,
   "metadata": {},
   "outputs": [
    {
     "name": "stdout",
     "output_type": "stream",
     "text": [
      "name : ab\n",
      "experience : 5\n",
      "salary : 250000.0 rs\n"
     ]
    },
    {
     "data": {
      "text/plain": [
       "250000.0"
      ]
     },
     "execution_count": 5,
     "metadata": {},
     "output_type": "execute_result"
    }
   ],
   "source": [
    "class person:\n",
    "    def __init__(self,name,experience):\n",
    "        self.name=name\n",
    "        self.experience=experience\n",
    "    @property\n",
    "    def salary(self):\n",
    "        return self.experience*0.5*100000\n",
    "    def show(self):\n",
    "        print(\"name :\",self.name)\n",
    "        print(\"experience :\",self.experience)\n",
    "        print(\"salary :\",self.salary,'rs')\n",
    "a1=person('ab',5)\n",
    "a1.show() \n",
    "a1.salary"
   ]
  }
 ],
 "metadata": {
  "kernelspec": {
   "display_name": "Python 3",
   "language": "python",
   "name": "python3"
  },
  "language_info": {
   "codemirror_mode": {
    "name": "ipython",
    "version": 3
   },
   "file_extension": ".py",
   "mimetype": "text/x-python",
   "name": "python",
   "nbconvert_exporter": "python",
   "pygments_lexer": "ipython3",
   "version": "3.11.5"
  }
 },
 "nbformat": 4,
 "nbformat_minor": 2
}
