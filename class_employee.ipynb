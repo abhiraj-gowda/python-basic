{
 "cells": [
  {
   "cell_type": "code",
   "execution_count": 35,
   "metadata": {},
   "outputs": [
    {
     "name": "stdout",
     "output_type": "stream",
     "text": [
      "role: engi\n",
      "dept: engi\n",
      "salary: 200008\n",
      "name: abhi\n",
      "age: 21\n",
      "role: engineer\n",
      "dept: engineering\n",
      "salary: 200880\n",
      "\n"
     ]
    }
   ],
   "source": [
    "class Employee:\n",
    "    def __init__(self,role,dept,salary):\n",
    "        self.role=role\n",
    "        self.dept=dept\n",
    "        self.salary=salary\n",
    "    def show(self):\n",
    "        print('role:',self.role)\n",
    "        print('dept:',self.dept)\n",
    "        print('salary:',self.salary)\n",
    "class Engineer(Employee):\n",
    "    def __init__(self, name,role,dept, age, salary):\n",
    "        self.name=name\n",
    "        self.age=age\n",
    "        super().__init__(\"engineer\",\"engineering\",salary)\n",
    "    def show(self):\n",
    "        print('name:',self.name)\n",
    "        print('age:',self.age)\n",
    "        super().show()\n",
    "        print()\n",
    "\n",
    "e=Employee('engi','engi',200008)\n",
    "e.show()        \n",
    "e1=Engineer('abhi','engineer','engi',21,200880)\n",
    "e1.show()\n",
    "# e2=Engineer('engineer',23,300000)\n",
    "# e2.show()\n",
    "# e3=Engineer('engineer',22,600000)\n",
    "# e3.show()"
   ]
  }
 ],
 "metadata": {
  "kernelspec": {
   "display_name": "Python 3",
   "language": "python",
   "name": "python3"
  },
  "language_info": {
   "codemirror_mode": {
    "name": "ipython",
    "version": 3
   },
   "file_extension": ".py",
   "mimetype": "text/x-python",
   "name": "python",
   "nbconvert_exporter": "python",
   "pygments_lexer": "ipython3",
   "version": "3.11.5"
  }
 },
 "nbformat": 4,
 "nbformat_minor": 2
}
