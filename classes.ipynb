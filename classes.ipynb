{
 "cells": [
  {
   "cell_type": "code",
   "execution_count": 60,
   "metadata": {},
   "outputs": [
    {
     "name": "stdout",
     "output_type": "stream",
     "text": [
      "abc \n",
      " abhi\n"
     ]
    }
   ],
   "source": [
    "class change():\n",
    "    name=\"abc\"\n",
    "    def changes(self,name_):\n",
    "        self.name=name_\n",
    "s1=change();s2=change()\n",
    "s2.changes('abhi')\n",
    "print(s1.name,'\\n',s2.name)"
   ]
  },
  {
   "cell_type": "code",
   "execution_count": 61,
   "metadata": {},
   "outputs": [
    {
     "name": "stdout",
     "output_type": "stream",
     "text": [
      "abi optained 40 in total and the average is 13.333333333333334\n"
     ]
    }
   ],
   "source": [
    "class stu:\n",
    "    # marks=[]\n",
    "    def __init__(self,name,marks):\n",
    "        self.name=name\n",
    "        self.marks=marks\n",
    "        sum=0\n",
    "        for i in range(len(self.marks)):\n",
    "            sum+=self.marks[i]\n",
    "        print(f\"{self.name} optained {sum} in total and the average is\",sum/len(self.marks))\n",
    "\n",
    "su1=stu('abi', [10,20,10])"
   ]
  },
  {
   "cell_type": "code",
   "execution_count": 62,
   "metadata": {},
   "outputs": [
    {
     "name": "stdout",
     "output_type": "stream",
     "text": [
      "abi obtained 40 in total and the average is 13.333333333333334\n"
     ]
    }
   ],
   "source": [
    "class stu:\n",
    "    def __init__(self, name, marks):\n",
    "        self.name = name\n",
    "        self.marks = marks\n",
    "        sum = 0\n",
    "        for i in self.marks:\n",
    "            sum += i\n",
    "        print(f\"{self.name} obtained {sum} in total and the average is {sum/len(self.marks)}\")\n",
    "\n",
    "su1 = stu('abi', [10, 20, 10])"
   ]
  },
  {
   "cell_type": "code",
   "execution_count": 73,
   "metadata": {},
   "outputs": [
    {
     "name": "stdout",
     "output_type": "stream",
     "text": [
      "222\n"
     ]
    }
   ],
   "source": [
    "class bank:\n",
    "    def __init__(self, name, acc_no,acc_pass):\n",
    "        self.name=name\n",
    "        self.acc_no=acc_no\n",
    "        self. __acc_password=acc_pass\n",
    "    def __password(self):\n",
    "        print(self.__acc_password)\n",
    "    def get_pass(self):\n",
    "        return self.__password()\n",
    "acc1=bank('abi',12345,222)\n",
    "acc1.get_pass()\n"
   ]
  },
  {
   "cell_type": "markdown",
   "metadata": {},
   "source": [
    "### inheritance"
   ]
  },
  {
   "cell_type": "code",
   "execution_count": 83,
   "metadata": {},
   "outputs": [
    {
     "data": {
      "text/plain": [
       "'hari'"
      ]
     },
     "execution_count": 83,
     "metadata": {},
     "output_type": "execute_result"
    }
   ],
   "source": [
    "class car:\n",
    "    def start(self):\n",
    "        print(\"Car started\")\n",
    "    def stop(self):\n",
    "        print(\"Car stopped\")\n",
    "class heroCar(car):\n",
    "    def __init__(self, name, color):\n",
    "        self.name=name\n",
    "        self.color=color\n",
    "class repare(heroCar):\n",
    "    def __init__(self, name, color, model):\n",
    "        heroCar.__init__(self, name, color)\n",
    "        self.model=model\n",
    "hero1=repare('hari','blue','rs22')\n",
    "hero1.name"
   ]
  }
 ],
 "metadata": {
  "kernelspec": {
   "display_name": "Python 3",
   "language": "python",
   "name": "python3"
  },
  "language_info": {
   "codemirror_mode": {
    "name": "ipython",
    "version": 3
   },
   "file_extension": ".py",
   "mimetype": "text/x-python",
   "name": "python",
   "nbconvert_exporter": "python",
   "pygments_lexer": "ipython3",
   "version": "3.11.5"
  }
 },
 "nbformat": 4,
 "nbformat_minor": 2
}
