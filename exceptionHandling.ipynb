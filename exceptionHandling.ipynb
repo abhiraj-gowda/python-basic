{
 "cells": [
  {
   "cell_type": "code",
   "execution_count": 1,
   "metadata": {},
   "outputs": [],
   "source": [
    "x=int(input(\"enter a number\"))\n",
    "y=int(input(\"enter a number\"))"
   ]
  },
  {
   "cell_type": "code",
   "execution_count": 2,
   "metadata": {},
   "outputs": [
    {
     "name": "stdout",
     "output_type": "stream",
     "text": [
      "0.6666666666666666\n",
      "0.6666666666666666\n",
      "the function done\n"
     ]
    }
   ],
   "source": [
    "try:\n",
    "    print(x/y)\n",
    "except Exception as e:\n",
    "    print(e)    \n",
    "else:\n",
    "    print(x/y)\n",
    "finally :\n",
    "    print(\"the function done\")    \n",
    "    "
   ]
  },
  {
   "cell_type": "markdown",
   "metadata": {},
   "source": [
    "### 👇 this is for custom exception"
   ]
  },
  {
   "cell_type": "code",
   "execution_count": 3,
   "metadata": {},
   "outputs": [],
   "source": [
    "class Error(Exception):\n",
    "    pass\n",
    "class dobError(Exception):\n",
    "    pass\n"
   ]
  },
  {
   "cell_type": "code",
   "execution_count": 4,
   "metadata": {},
   "outputs": [
    {
     "name": "stdout",
     "output_type": "stream",
     "text": [
      "you are too old or too young to attend this exam\n"
     ]
    }
   ],
   "source": [
    "year=int(input(\"enter your year birth\"))\n",
    "age=2024-year\n",
    "try:\n",
    "    if age <30 and age>20:\n",
    "       print('great')\n",
    "    else:\n",
    "        raise dobError\n",
    "except dobError:\n",
    "    print('you are too old or too young to attend this exam')"
   ]
  }
 ],
 "metadata": {
  "kernelspec": {
   "display_name": "Python 3",
   "language": "python",
   "name": "python3"
  },
  "language_info": {
   "codemirror_mode": {
    "name": "ipython",
    "version": 3
   },
   "file_extension": ".py",
   "mimetype": "text/x-python",
   "name": "python",
   "nbconvert_exporter": "python",
   "pygments_lexer": "ipython3",
   "version": "3.11.5"
  }
 },
 "nbformat": 4,
 "nbformat_minor": 2
}
