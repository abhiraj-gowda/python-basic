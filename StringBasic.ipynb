{
 "cells": [
  {
   "cell_type": "code",
   "execution_count": 5,
   "metadata": {},
   "outputs": [
    {
     "name": "stdout",
     "output_type": "stream",
     "text": [
      "a\n",
      "i\n",
      "a\n",
      "i\n",
      "a\n",
      "u\n",
      "a\n",
      "e\n",
      "e\n",
      "e\n",
      "i\n",
      "u\n",
      "e\n",
      "a\n",
      "i\n",
      "15\n"
     ]
    }
   ],
   "source": [
    "\n",
    "string='abiraj is an rudra veene instrumentalist'\n",
    "count=0\n",
    "for i in string:\n",
    "    if i in 'aeiou':\n",
    "        print(i)\n",
    "        count+=1\n",
    "print(count)"
   ]
  }
 ],
 "metadata": {
  "kernelspec": {
   "display_name": "Python 3",
   "language": "python",
   "name": "python3"
  },
  "language_info": {
   "codemirror_mode": {
    "name": "ipython",
    "version": 3
   },
   "file_extension": ".py",
   "mimetype": "text/x-python",
   "name": "python",
   "nbconvert_exporter": "python",
   "pygments_lexer": "ipython3",
   "version": "3.11.5"
  }
 },
 "nbformat": 4,
 "nbformat_minor": 2
}
